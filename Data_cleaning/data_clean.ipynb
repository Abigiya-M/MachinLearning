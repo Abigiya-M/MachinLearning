{
 "cells": [
  {
   "cell_type": "code",
   "execution_count": 2,
   "id": "04651c35-7a5b-4b73-a771-93c1c65d887b",
   "metadata": {},
   "outputs": [],
   "source": [
    "import pandas as pd"
   ]
  },
  {
   "cell_type": "code",
   "execution_count": 3,
   "id": "6ace8bba-a8c6-4159-93b6-b88f1d48d4fb",
   "metadata": {},
   "outputs": [],
   "source": [
    "from sklearn.feature_extraction.text import CountVectorizer, TfidfVectorizer"
   ]
  },
  {
   "cell_type": "code",
   "execution_count": 15,
   "id": "9c38d37a-f923-49b4-a157-12f7c449ab01",
   "metadata": {},
   "outputs": [],
   "source": [
    "df = pd.read_csv('imdb_raw.csv')"
   ]
  },
  {
   "cell_type": "code",
   "execution_count": 16,
   "id": "8ff05211-88d2-4b50-a3ea-25e4189ae26c",
   "metadata": {},
   "outputs": [
    {
     "name": "stdout",
     "output_type": "stream",
     "text": [
      "<class 'pandas.core.frame.DataFrame'>\n",
      "RangeIndex: 1000 entries, 0 to 999\n",
      "Data columns (total 8 columns):\n",
      " #   Column        Non-Null Count  Dtype  \n",
      "---  ------        --------------  -----  \n",
      " 0   title         1000 non-null   object \n",
      " 1   director      1000 non-null   object \n",
      " 2   release_year  1000 non-null   object \n",
      " 3   runtime       1000 non-null   object \n",
      " 4   genre         1000 non-null   object \n",
      " 5   rating        1000 non-null   float64\n",
      " 6   metascore     1000 non-null   int64  \n",
      " 7   gross         1000 non-null   object \n",
      "dtypes: float64(1), int64(1), object(6)\n",
      "memory usage: 62.6+ KB\n",
      "None\n"
     ]
    }
   ],
   "source": [
    "print(df.info())"
   ]
  },
  {
   "cell_type": "code",
   "execution_count": 21,
   "id": "553d4430-9159-4058-9497-b0748e835c76",
   "metadata": {},
   "outputs": [
    {
     "name": "stdout",
     "output_type": "stream",
     "text": [
      "['(1994)' '(1972)' '(2008)' '(1993)' '(1957)' '(2003)' '(1974)' '(2023)'\n",
      " '(2010)' '(2001)' '(1999)' '(1966)' '(2002)' '(2021)' '(2022)' '(2014)'\n",
      " '(1990)' '(1975)' '(1980)' '(2020)' '(1991)' '(1995)' '(1998)' '(1977)'\n",
      " '(1997)' '(1954)' '(1946)' '(1962)' '(1985)' '(2006)' '(2000)' '(1979)'\n",
      " '(2019)' '(1942)' '(1960)' '(2011)' '(1968)' '(1988)' '(1936)' '(1931)'\n",
      " '(II) (2018)' '(1981)' '(2018)' '(2012)' '(1986)' '(I) (2019)' '(1984)'\n",
      " '(I) (2017)' '(2016)' '(2009)' '(1964)' '(1950)' '(1940)' '(1963)'\n",
      " '(1987)' '(1983)' '(2004)' '(1971)' '(1958)' '(1992)' '(1959)' '(1941)'\n",
      " '(1952)' '(1927)' '(1973)' '(1961)' '(1944)' '(2007)' '(1948)' '(2017)'\n",
      " '(1921)' '(2013)' '(1989)' '(1982)' '(2005)' '(1976)' '(I) (2020)'\n",
      " '(1939)' '(1965)' '(2015)' '(1955)' '(1969)' '(1953)' '(1928)' '(1924)'\n",
      " '(I) (2015)' '(1996)' '(1978)' '(I) (2013)' '(1967)' '(1949)' '(1930)'\n",
      " '(1934)' '(1951)' '(1926)' '(1925)' '(1937)' '(III) (2016)' '(I) (2014)'\n",
      " '(1920)' '(1947)' '(I) (2004)' '(1945)' '(II) (2016)' '(1956)' '(1922)'\n",
      " '(I) (2011)' '(1933)' '(1970)' '(1938)' '(I) (2001)' '(I) (2008)'\n",
      " '(I) (2010)' '(I) (2006)' '(I) (2007)' '(1932)' '(1943)' '(1935)'\n",
      " '(II) (2022)' '(I) (1995)' '(I) (2016)' '(III) (2018)' '(I) (1985)']\n"
     ]
    }
   ],
   "source": [
    "print(df['release_year'].unique())\n",
    "df=df[df['release_year'].str.isdigit()]"
   ]
  },
  {
   "cell_type": "code",
   "execution_count": 25,
   "id": "287c5f2b-3116-41b0-a61f-53a27afc8a0b",
   "metadata": {},
   "outputs": [],
   "source": [
    "df['release_year']= df['release_year'].astype(int)"
   ]
  },
  {
   "cell_type": "code",
   "execution_count": 28,
   "id": "0076e1d7-e5fc-4770-9e8d-af78b3ecec42",
   "metadata": {},
   "outputs": [
    {
     "name": "stdout",
     "output_type": "stream",
     "text": [
      "Defaulting to user installation because normal site-packages is not writeable\n",
      "Collecting matplotlib\n",
      "  Downloading matplotlib-3.10.3-cp312-cp312-win_amd64.whl.metadata (11 kB)\n",
      "Collecting contourpy>=1.0.1 (from matplotlib)\n",
      "  Downloading contourpy-1.3.2-cp312-cp312-win_amd64.whl.metadata (5.5 kB)\n",
      "Collecting cycler>=0.10 (from matplotlib)\n",
      "  Downloading cycler-0.12.1-py3-none-any.whl.metadata (3.8 kB)\n",
      "Collecting fonttools>=4.22.0 (from matplotlib)\n",
      "  Downloading fonttools-4.58.4-cp312-cp312-win_amd64.whl.metadata (108 kB)\n",
      "Collecting kiwisolver>=1.3.1 (from matplotlib)\n",
      "  Downloading kiwisolver-1.4.8-cp312-cp312-win_amd64.whl.metadata (6.3 kB)\n",
      "Requirement already satisfied: numpy>=1.23 in c:\\users\\inspiron 5567\\appdata\\local\\packages\\pythonsoftwarefoundation.python.3.12_qbz5n2kfra8p0\\localcache\\local-packages\\python312\\site-packages (from matplotlib) (2.3.0)\n",
      "Requirement already satisfied: packaging>=20.0 in c:\\users\\inspiron 5567\\appdata\\local\\packages\\pythonsoftwarefoundation.python.3.12_qbz5n2kfra8p0\\localcache\\local-packages\\python312\\site-packages (from matplotlib) (25.0)\n",
      "Collecting pillow>=8 (from matplotlib)\n",
      "  Downloading pillow-11.2.1-cp312-cp312-win_amd64.whl.metadata (9.1 kB)\n",
      "Collecting pyparsing>=2.3.1 (from matplotlib)\n",
      "  Downloading pyparsing-3.2.3-py3-none-any.whl.metadata (5.0 kB)\n",
      "Requirement already satisfied: python-dateutil>=2.7 in c:\\users\\inspiron 5567\\appdata\\local\\packages\\pythonsoftwarefoundation.python.3.12_qbz5n2kfra8p0\\localcache\\local-packages\\python312\\site-packages (from matplotlib) (2.9.0.post0)\n",
      "Requirement already satisfied: six>=1.5 in c:\\users\\inspiron 5567\\appdata\\local\\packages\\pythonsoftwarefoundation.python.3.12_qbz5n2kfra8p0\\localcache\\local-packages\\python312\\site-packages (from python-dateutil>=2.7->matplotlib) (1.17.0)\n",
      "Downloading matplotlib-3.10.3-cp312-cp312-win_amd64.whl (8.1 MB)\n",
      "   ---------------------------------------- 0.0/8.1 MB ? eta -:--:--\n",
      "   ---------------------------------------- 0.0/8.1 MB ? eta -:--:--\n",
      "   - -------------------------------------- 0.3/8.1 MB ? eta -:--:--\n",
      "   --- ------------------------------------ 0.8/8.1 MB 1.8 MB/s eta 0:00:05\n",
      "   --- ------------------------------------ 0.8/8.1 MB 1.8 MB/s eta 0:00:05\n",
      "   ----- ---------------------------------- 1.0/8.1 MB 1.2 MB/s eta 0:00:06\n",
      "   ----- ---------------------------------- 1.0/8.1 MB 1.2 MB/s eta 0:00:06\n",
      "   ------- -------------------------------- 1.6/8.1 MB 1.1 MB/s eta 0:00:06\n",
      "   ------- -------------------------------- 1.6/8.1 MB 1.1 MB/s eta 0:00:06\n",
      "   --------- ------------------------------ 1.8/8.1 MB 1.1 MB/s eta 0:00:06\n",
      "   ---------- ----------------------------- 2.1/8.1 MB 1.1 MB/s eta 0:00:06\n",
      "   ----------- ---------------------------- 2.4/8.1 MB 1.1 MB/s eta 0:00:06\n",
      "   --------------- ------------------------ 3.1/8.1 MB 1.3 MB/s eta 0:00:04\n",
      "   ---------------- ----------------------- 3.4/8.1 MB 1.3 MB/s eta 0:00:04\n",
      "   ------------------- -------------------- 3.9/8.1 MB 1.4 MB/s eta 0:00:03\n",
      "   -------------------- ------------------- 4.2/8.1 MB 1.4 MB/s eta 0:00:03\n",
      "   ---------------------- ----------------- 4.5/8.1 MB 1.4 MB/s eta 0:00:03\n",
      "   ---------------------- ----------------- 4.5/8.1 MB 1.4 MB/s eta 0:00:03\n",
      "   ------------------------ --------------- 5.0/8.1 MB 1.3 MB/s eta 0:00:03\n",
      "   --------------------------- ------------ 5.5/8.1 MB 1.4 MB/s eta 0:00:02\n",
      "   ----------------------------- ---------- 6.0/8.1 MB 1.5 MB/s eta 0:00:02\n",
      "   ------------------------------- -------- 6.3/8.1 MB 1.5 MB/s eta 0:00:02\n",
      "   -------------------------------- ------- 6.6/8.1 MB 1.4 MB/s eta 0:00:02\n",
      "   -------------------------------- ------- 6.6/8.1 MB 1.4 MB/s eta 0:00:02\n",
      "   --------------------------------- ------ 6.8/8.1 MB 1.4 MB/s eta 0:00:01\n",
      "   ------------------------------------- -- 7.6/8.1 MB 1.4 MB/s eta 0:00:01\n",
      "   -------------------------------------- - 7.9/8.1 MB 1.5 MB/s eta 0:00:01\n",
      "   -------------------------------------- - 7.9/8.1 MB 1.5 MB/s eta 0:00:01\n",
      "   ---------------------------------------- 8.1/8.1 MB 1.4 MB/s eta 0:00:00\n",
      "Downloading contourpy-1.3.2-cp312-cp312-win_amd64.whl (223 kB)\n",
      "Downloading cycler-0.12.1-py3-none-any.whl (8.3 kB)\n",
      "Downloading fonttools-4.58.4-cp312-cp312-win_amd64.whl (2.2 MB)\n",
      "   ---------------------------------------- 0.0/2.2 MB ? eta -:--:--\n",
      "   --------- ------------------------------ 0.5/2.2 MB 2.4 MB/s eta 0:00:01\n",
      "   ------------------ --------------------- 1.0/2.2 MB 3.0 MB/s eta 0:00:01\n",
      "   -------------------------------- ------- 1.8/2.2 MB 3.0 MB/s eta 0:00:01\n",
      "   ------------------------------------- -- 2.1/2.2 MB 3.0 MB/s eta 0:00:01\n",
      "   ---------------------------------------- 2.2/2.2 MB 2.2 MB/s eta 0:00:00\n",
      "Downloading kiwisolver-1.4.8-cp312-cp312-win_amd64.whl (71 kB)\n",
      "Downloading pillow-11.2.1-cp312-cp312-win_amd64.whl (2.7 MB)\n",
      "   ---------------------------------------- 0.0/2.7 MB ? eta -:--:--\n",
      "   ------- -------------------------------- 0.5/2.7 MB 4.2 MB/s eta 0:00:01\n",
      "   ----------------------- ---------------- 1.6/2.7 MB 4.7 MB/s eta 0:00:01\n",
      "   ----------------------------------- ---- 2.4/2.7 MB 4.6 MB/s eta 0:00:01\n",
      "   ---------------------------------------  2.6/2.7 MB 4.6 MB/s eta 0:00:01\n",
      "   ---------------------------------------- 2.7/2.7 MB 2.8 MB/s eta 0:00:00\n",
      "Downloading pyparsing-3.2.3-py3-none-any.whl (111 kB)\n",
      "Installing collected packages: pyparsing, pillow, kiwisolver, fonttools, cycler, contourpy, matplotlib\n",
      "Successfully installed contourpy-1.3.2 cycler-0.12.1 fonttools-4.58.4 kiwisolver-1.4.8 matplotlib-3.10.3 pillow-11.2.1 pyparsing-3.2.3\n"
     ]
    },
    {
     "name": "stderr",
     "output_type": "stream",
     "text": [
      "\n",
      "[notice] A new release of pip is available: 25.0.1 -> 25.1.1\n",
      "[notice] To update, run: C:\\Users\\Inspiron 5567\\AppData\\Local\\Microsoft\\WindowsApps\\PythonSoftwareFoundation.Python.3.12_qbz5n2kfra8p0\\python.exe -m pip install --upgrade pip\n"
     ]
    }
   ],
   "source": [
    "!pip install matplotlib"
   ]
  },
  {
   "cell_type": "code",
   "execution_count": 36,
   "id": "80c9ad46-216e-405b-b157-4b57203afe28",
   "metadata": {},
   "outputs": [],
   "source": [
    "df['runtime'] = df['runtime'].astype(int)\n",
    "df['gross']= df['gross'].replace('[/$]','', regex=True).astype(float)"
   ]
  },
  {
   "cell_type": "code",
   "execution_count": 38,
   "id": "f99d1d29-c7f1-4af5-9a9c-8ca2bd3c8dd0",
   "metadata": {},
   "outputs": [
    {
     "ename": "ValueError",
     "evalue": "Iterable over raw text documents expected, string object received.",
     "output_type": "error",
     "traceback": [
      "\u001b[31m---------------------------------------------------------------------------\u001b[39m",
      "\u001b[31mValueError\u001b[39m                                Traceback (most recent call last)",
      "\u001b[36mCell\u001b[39m\u001b[36m \u001b[39m\u001b[32mIn[38]\u001b[39m\u001b[32m, line 2\u001b[39m\n\u001b[32m      1\u001b[39m vec = CountVectorizer()\n\u001b[32m----> \u001b[39m\u001b[32m2\u001b[39m x = \u001b[43mvec\u001b[49m\u001b[43m.\u001b[49m\u001b[43mfit_transform\u001b[49m\u001b[43m(\u001b[49m\u001b[33;43m'\u001b[39;49m\u001b[33;43mtitle\u001b[39;49m\u001b[33;43m'\u001b[39;49m\u001b[43m)\u001b[49m\n",
      "\u001b[36mFile \u001b[39m\u001b[32m~\\AppData\\Local\\Packages\\PythonSoftwareFoundation.Python.3.12_qbz5n2kfra8p0\\LocalCache\\local-packages\\Python312\\site-packages\\sklearn\\base.py:1363\u001b[39m, in \u001b[36m_fit_context.<locals>.decorator.<locals>.wrapper\u001b[39m\u001b[34m(estimator, *args, **kwargs)\u001b[39m\n\u001b[32m   1356\u001b[39m     estimator._validate_params()\n\u001b[32m   1358\u001b[39m \u001b[38;5;28;01mwith\u001b[39;00m config_context(\n\u001b[32m   1359\u001b[39m     skip_parameter_validation=(\n\u001b[32m   1360\u001b[39m         prefer_skip_nested_validation \u001b[38;5;129;01mor\u001b[39;00m global_skip_validation\n\u001b[32m   1361\u001b[39m     )\n\u001b[32m   1362\u001b[39m ):\n\u001b[32m-> \u001b[39m\u001b[32m1363\u001b[39m     \u001b[38;5;28;01mreturn\u001b[39;00m \u001b[43mfit_method\u001b[49m\u001b[43m(\u001b[49m\u001b[43mestimator\u001b[49m\u001b[43m,\u001b[49m\u001b[43m \u001b[49m\u001b[43m*\u001b[49m\u001b[43margs\u001b[49m\u001b[43m,\u001b[49m\u001b[43m \u001b[49m\u001b[43m*\u001b[49m\u001b[43m*\u001b[49m\u001b[43mkwargs\u001b[49m\u001b[43m)\u001b[49m\n",
      "\u001b[36mFile \u001b[39m\u001b[32m~\\AppData\\Local\\Packages\\PythonSoftwareFoundation.Python.3.12_qbz5n2kfra8p0\\LocalCache\\local-packages\\Python312\\site-packages\\sklearn\\feature_extraction\\text.py:1354\u001b[39m, in \u001b[36mCountVectorizer.fit_transform\u001b[39m\u001b[34m(self, raw_documents, y)\u001b[39m\n\u001b[32m   1350\u001b[39m \u001b[38;5;66;03m# We intentionally don't call the transform method to make\u001b[39;00m\n\u001b[32m   1351\u001b[39m \u001b[38;5;66;03m# fit_transform overridable without unwanted side effects in\u001b[39;00m\n\u001b[32m   1352\u001b[39m \u001b[38;5;66;03m# TfidfVectorizer.\u001b[39;00m\n\u001b[32m   1353\u001b[39m \u001b[38;5;28;01mif\u001b[39;00m \u001b[38;5;28misinstance\u001b[39m(raw_documents, \u001b[38;5;28mstr\u001b[39m):\n\u001b[32m-> \u001b[39m\u001b[32m1354\u001b[39m     \u001b[38;5;28;01mraise\u001b[39;00m \u001b[38;5;167;01mValueError\u001b[39;00m(\n\u001b[32m   1355\u001b[39m         \u001b[33m\"\u001b[39m\u001b[33mIterable over raw text documents expected, string object received.\u001b[39m\u001b[33m\"\u001b[39m\n\u001b[32m   1356\u001b[39m     )\n\u001b[32m   1358\u001b[39m \u001b[38;5;28mself\u001b[39m._validate_ngram_range()\n\u001b[32m   1359\u001b[39m \u001b[38;5;28mself\u001b[39m._warn_for_unused_params()\n",
      "\u001b[31mValueError\u001b[39m: Iterable over raw text documents expected, string object received."
     ]
    }
   ],
   "source": [
    "vec = CountVectorizer()\n",
    "x = vec.fit_transform('title')"
   ]
  },
  {
   "cell_type": "code",
   "execution_count": 12,
   "id": "928e9371-cd25-4c2c-879c-872a5dd303ed",
   "metadata": {},
   "outputs": [],
   "source": []
  },
  {
   "cell_type": "code",
   "execution_count": 13,
   "id": "ac68499f-c0dc-4d75-b228-8a1f8bc2c511",
   "metadata": {},
   "outputs": [
    {
     "name": "stdout",
     "output_type": "stream",
     "text": [
      "<Compressed Sparse Row sparse matrix of dtype 'int64'\n",
      "\twith 2 stored elements and shape (2, 2)>\n",
      "  Coords\tValues\n",
      "  (0, 1)\t1\n",
      "  (1, 0)\t1\n"
     ]
    }
   ],
   "source": [
    "print(x)"
   ]
  },
  {
   "cell_type": "code",
   "execution_count": null,
   "id": "460d2a73-5fa7-4b93-870f-546d0550a6db",
   "metadata": {},
   "outputs": [],
   "source": []
  }
 ],
 "metadata": {
  "kernelspec": {
   "display_name": "Python 3 (ipykernel)",
   "language": "python",
   "name": "python3"
  },
  "language_info": {
   "codemirror_mode": {
    "name": "ipython",
    "version": 3
   },
   "file_extension": ".py",
   "mimetype": "text/x-python",
   "name": "python",
   "nbconvert_exporter": "python",
   "pygments_lexer": "ipython3",
   "version": "3.12.10"
  }
 },
 "nbformat": 4,
 "nbformat_minor": 5
}
